{
 "cells": [
  {
   "cell_type": "markdown",
   "metadata": {},
   "source": [
    "### TraceFL Artificat"
   ]
  },
  {
   "cell_type": "code",
   "execution_count": null,
   "metadata": {},
   "outputs": [],
   "source": [
    "!git clone https://github.com/SEED-VT/TraceFL\n",
    "%cd TraceFL\n",
    "!ls"
   ]
  },
  {
   "cell_type": "code",
   "execution_count": null,
   "metadata": {},
   "outputs": [],
   "source": [
    "%%bash \n",
    "pip install virtualenv -q\n",
    "virtualenv my_virtual_env -q\n",
    "source my_virtual_env/bin/activate\n",
    "my_virtual_env/bin/pip install poetry -q\n",
    "source my_virtual_env/bin/activate \n",
    "my_virtual_env/bin/poetry install -q # install tracefl\n"
   ]
  },
  {
   "cell_type": "code",
   "execution_count": null,
   "metadata": {},
   "outputs": [],
   "source": [
    "\n",
    "!my_virtual_env/bin/python -m tracefl.main dirichlet_alpha=0.1 device=cuda"
   ]
  }
 ],
 "metadata": {
  "kernelspec": {
   "display_name": "Python 3",
   "language": "python",
   "name": "python3"
  },
  "language_info": {
   "name": "python",
   "version": "3.10.12"
  }
 },
 "nbformat": 4,
 "nbformat_minor": 2
}
