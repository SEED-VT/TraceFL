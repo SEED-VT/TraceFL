{
 "cells": [
  {
   "cell_type": "markdown",
   "metadata": {},
   "source": [
    "### TraceFL Artificat"
   ]
  },
  {
   "cell_type": "code",
   "execution_count": null,
   "metadata": {},
   "outputs": [],
   "source": [
    "!git clone https://github.com/SEED-VT/TraceFL\n",
    "%cd TraceFL\n",
    "!ls"
   ]
  },
  {
   "cell_type": "code",
   "execution_count": null,
   "metadata": {},
   "outputs": [],
   "source": [
    "!pip install virtualenv\n"
   ]
  },
  {
   "cell_type": "code",
   "execution_count": null,
   "metadata": {},
   "outputs": [],
   "source": [
    "!virtualenv my_virtual_env"
   ]
  },
  {
   "cell_type": "code",
   "execution_count": null,
   "metadata": {},
   "outputs": [],
   "source": [
    "!source my_virtual_env/bin/activate\n",
    "!my_virtual_env/bin/pip install poetry"
   ]
  },
  {
   "cell_type": "code",
   "execution_count": null,
   "metadata": {},
   "outputs": [],
   "source": [
    "!my_virtual_env/bin/poetry install # install "
   ]
  },
  {
   "cell_type": "code",
   "execution_count": null,
   "metadata": {},
   "outputs": [],
   "source": [
    "!source my_virtual_env/bin/activate\n",
    "# !my_virtual_env/bin/python\n",
    "\n",
    "\n",
    "!my_virtual_env/bin/python -m tracefl.main dirichlet_alpha=0.1 device=cuda"
   ]
  },
  {
   "cell_type": "markdown",
   "metadata": {},
   "source": [
    "Following shell script will take around 4 mintues to install all the dependencies to rund the TraceFL artifact. \n"
   ]
  },
  {
   "cell_type": "markdown",
   "metadata": {},
   "source": [
    "%%bash\n",
    "\n",
    "cd TraceFL \n",
    "virtualenv my_virtual_env\n",
    "source my_virtual_env/bin/activate\n",
    "my_virtual_env/bin/pip install poetry\n",
    "my_virtual_env/bin/poetry install"
   ]
  }
 ],
 "metadata": {
  "kernelspec": {
   "display_name": "Python 3",
   "language": "python",
   "name": "python3"
  },
  "language_info": {
   "name": "python",
   "version": "3.10.12"
  }
 },
 "nbformat": 4,
 "nbformat_minor": 2
}
