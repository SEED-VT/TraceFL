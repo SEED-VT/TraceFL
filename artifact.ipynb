{
  "cells": [
    {
      "cell_type": "markdown",
      "metadata": {
        "id": "HyYPJ5rqmgjV"
      },
      "source": [
        "## TraceFL Artifact\n",
        "\n",
        "\n",
        "<div style=\"color: red; font-weight: bold;\">\n",
        "    Make sure to enable the GPU to get the best performance. The GPU can be enabled by going to the top (Runtime) and selecting the Accelerator as T4 GPU.\n",
        "</div>\n",
        "\n",
        "**Expected Outcome at the End of Notebook Execution ✅**:\n",
        "```bash\n",
        "...\n",
        "[INFO] - ----------------------------\n",
        "[INFO] - Total Rounds: 2\n",
        "[INFO] - TraceFL Average Localization Accuracy: 100.0\n",
        "```\n",
        "\n"
      ]
    },
    {
      "cell_type": "code",
      "execution_count": 1,
      "metadata": {
        "colab": {
          "base_uri": "https://localhost:8080/"
        },
        "id": "7wtSE3OlmgjV",
        "outputId": "140d0023-9166-407d-fddf-05f30f4d2158"
      },
      "outputs": [
        {
          "name": "stdout",
          "output_type": "stream",
          "text": [
            "Cloning into 'TraceFL'...\n",
            "remote: Enumerating objects: 426, done.\u001b[K\n",
            "remote: Counting objects: 100% (426/426), done.\u001b[K\n",
            "remote: Compressing objects: 100% (158/158), done.\u001b[K\n",
            "remote: Total 426 (delta 301), reused 379 (delta 257), pack-reused 0 (from 0)\u001b[K\n",
            "Receiving objects: 100% (426/426), 5.47 MiB | 7.54 MiB/s, done.\n",
            "Resolving deltas: 100% (301/301), done.\n",
            "/content/TraceFL\n",
            "artifact.ipynb\tpoetry.lock\tscripts\t\t\t\t   TraceFL-Paper.pdf\n",
            "graphs\t\tpyproject.toml\ttracefl\t\t\t\t   tracefl.png\n",
            "LICENSE\t\tREADME.md\tTraceFL_clients_contributions.log\n"
          ]
        }
      ],
      "source": [
        "!git clone https://github.com/SEED-VT/TraceFL\n",
        "%cd TraceFL\n",
        "!ls"
      ]
    },
    {
      "cell_type": "code",
      "execution_count": null,
      "metadata": {},
      "outputs": [
        {
          "name": "stdout",
          "output_type": "stream",
          "text": [
            "Cloning into 'TraceFL'...\n",
            "remote: Enumerating objects: 426, done.\u001b[K\n",
            "remote: Counting objects: 100% (426/426), done.\u001b[K\n",
            "remote: Compressing objects: 100% (158/158), done.\u001b[K\n",
            "remote: Total 426 (delta 301), reused 379 (delta 257), pack-reused 0 (from 0)\u001b[K\n",
            "Receiving objects: 100% (426/426), 5.47 MiB | 7.54 MiB/s, done.\n",
            "Resolving deltas: 100% (301/301), done.\n",
            "/content/TraceFL\n",
            "artifact.ipynb\tpoetry.lock\tscripts\t\t\t\t   TraceFL-Paper.pdf\n",
            "graphs\t\tpyproject.toml\ttracefl\t\t\t\t   tracefl.png\n",
            "LICENSE\t\tREADME.md\tTraceFL_clients_contributions.log\n"
          ]
        }
      ],
      "source": [
        "!git clone https://github.com/SEED-VT/TraceFL\n",
        "%cd TraceFL\n",
        "!ls"
      ]
    },
    {
      "cell_type": "code",
      "execution_count": 2,
      "metadata": {
        "colab": {
          "base_uri": "https://localhost:8080/"
        },
        "id": "8IHNy9G1mgjV",
        "outputId": "5c4d424e-a562-441c-f8d0-9ffb47d0a1af"
      },
      "outputs": [
        {
          "name": "stdout",
          "output_type": "stream",
          "text": [
            "   ━━━━━━━━━━━━━━━━━━━━━━━━━━━━━━━━━━━━━━━━ 4.3/4.3 MB 31.1 MB/s eta 0:00:00\n",
            "   ━━━━━━━━━━━━━━━━━━━━━━━━━━━━━━━━━━━━━━━━ 469.0/469.0 kB 26.3 MB/s eta 0:00:00\n",
            "   ━━━━━━━━━━━━━━━━━━━━━━━━━━━━━━━━━━━━━━━━ 544.8/544.8 kB 10.9 MB/s eta 0:00:00\n",
            "   ━━━━━━━━━━━━━━━━━━━━━━━━━━━━━━━━━━━━━━━━ 979.7/979.7 kB 25.9 MB/s eta 0:00:00\n",
            "   ━━━━━━━━━━━━━━━━━━━━━━━━━━━━━━━━━━━━━━━━ 3.1/3.1 MB 69.9 MB/s eta 0:00:00\n",
            "   ━━━━━━━━━━━━━━━━━━━━━━━━━━━━━━━━━━━━━━━━ 4.2/4.2 MB 92.3 MB/s eta 0:00:00\n"
          ]
        }
      ],
      "source": [
        "%%bash\n",
        "pip install virtualenv -q\n",
        "virtualenv my_virtual_env -q\n",
        "source my_virtual_env/bin/activate\n",
        "my_virtual_env/bin/pip install poetry -q\n",
        "source my_virtual_env/bin/activate\n",
        "my_virtual_env/bin/poetry install -q # install tracefl\n"
      ]
    },
    {
      "cell_type": "markdown",
      "metadata": {},
      "source": [
        "<div style=\"color: green; font-weight: bold;\">\n",
        "    To test with any configuration, please check the TraceFL README.md Section-5.2 (Reproducing Main Paper Experiments)\n",
        "</div>"
      ]
    },
    {
      "cell_type": "code",
      "execution_count": 4,
      "metadata": {
        "colab": {
          "base_uri": "https://localhost:8080/"
        },
        "id": "-OUJZD9KmgjW",
        "outputId": "1800dd9f-80b9-4c42-f1f6-852d89a2b1cd"
      },
      "outputs": [
        {
          "name": "stdout",
          "output_type": "stream",
          "text": [
            "[INFO] -  ***********  Starting Experiment: Temp--resnet18-mnist-faulty_clients[[]]-noise_rateNone-TClients20-fedavg-(R2-clientsPerR4)-non_iid_dirichlet0.1-batch32-epochs2-lr0.001 ***************\n",
            "[INFO] - \n",
            "Loading dataset from cache storage_of_exps/cache_of_fl_datasets: -dist_type:non_iid_dirichlet-num_clients:20-batch_size:32-dirichlet_alpha:0.1-dname:mnist-mname:resnet18-storage_dir:storage_of_exps/-max_per_client_data_size:2048-max_server_data_size:2048-architecture:cnn-\n",
            "\n",
            "[INFO] - faulty clients: []\n",
            "[INFO] - Number of clients: 20\n",
            "[INFO] - Participating clients ids  are ['0', '1', '2', '3', '4', '5', '6', '7', '8', '9', '10', '11', '12', '13', '14', '15', '16', '17', '18', '19']\n",
            "[INFO] - >> ----------------------------- Running Non-DP FL -----------------------------\n",
            " >> strategy_cfg: {'name': 'fedavg', 'num_rounds': '${num_rounds}', 'clients_per_round': '${clients_per_round}', 'noise_multiplier': '${noise_multiplier}', 'clipping_norm': '${clipping_norm}'} \n",
            "[INFO] - Running the simulation\n",
            "[INFO] - Starting Flower ServerApp, config: num_rounds=2, no round_timeout\n",
            "[INFO] - \n",
            "[INFO] - [INIT]\n",
            "[INFO] - Using initial global parameters provided by strategy\n",
            "[INFO] - Evaluating initial global parameters\n",
            "/content/TraceFL/my_virtual_env/lib/python3.11/site-packages/torch/utils/data/dataloader.py:558: UserWarning: This DataLoader will create 4 worker processes in total. Our suggested max number of worker in current system is 2, which is smaller than what this DataLoader is going to create. Please be aware that excessive worker creation might get DataLoader running slow or even freeze, lower the worker number to avoid potential slowness/freeze if necessary.\n",
            "  warnings.warn(_create_warning_msg(\n",
            "[INFO] - initial parameters (loss, other metrics): 0.0045875811483711, {'accuracy': 0.10986328125, 'loss': 0.0045875811483711, 'round': 0}\n",
            "[INFO] - \n",
            "[INFO] - [ROUND 1]\n",
            "[INFO] - configure_fit: strategy sampled 4 clients (out of 20)\n",
            "[INFO] - aggregate_fit: received 4 results and 0 failures\n",
            "[INFO] - participating clients: dict_keys(['14', '15', '10', '1'])\n",
            "[INFO] - >>   ------------------- Clients Metrics ------------- \n",
            "[INFO] -  Client 1, Loss Train 0.004440166532731382, Accuracy Train 0.96630859375, data_points = 64\n",
            "[INFO] -  Client 10, Loss Train 0.0013971108020314205, Accuracy Train 0.990234375, data_points = 64\n",
            "[INFO] -  Client 14, Loss Train 0.0010900657322849838, Accuracy Train 0.99609375, data_points = 64\n",
            "[INFO] -  Client 15, Loss Train 0.0010849639463401672, Accuracy Train 0.99169921875, data_points = 64\n",
            "/content/TraceFL/my_virtual_env/lib/python3.11/site-packages/torch/utils/data/dataloader.py:558: UserWarning: This DataLoader will create 4 worker processes in total. Our suggested max number of worker in current system is 2, which is smaller than what this DataLoader is going to create. Please be aware that excessive worker creation might get DataLoader running slow or even freeze, lower the worker number to avoid potential slowness/freeze if necessary.\n",
            "  warnings.warn(_create_warning_msg(\n",
            "[INFO] - fit progress: (1, 0.0053237342508509755, {'accuracy': 0.099609375, 'loss': 0.0053237342508509755, 'round': 1}, 483.08883168600005)\n",
            "[INFO] - configure_evaluate: no clients selected, skipping evaluation\n",
            "[INFO] - \n",
            "[INFO] - [ROUND 2]\n",
            "[INFO] - configure_fit: strategy sampled 4 clients (out of 20)\n",
            "[INFO] - aggregate_fit: received 4 results and 0 failures\n",
            "[INFO] - participating clients: dict_keys(['6', '14', '2', '10'])\n",
            "[INFO] - >>   ------------------- Clients Metrics ------------- \n",
            "[INFO] -  Client 2, Loss Train 0.0015491779436991359, Accuracy Train 0.9874411302982732, data_points = 59\n",
            "[INFO] -  Client 6, Loss Train 0.001731619964886022, Accuracy Train 0.986328125, data_points = 64\n",
            "[INFO] -  Client 10, Loss Train 0.0012364575971446357, Accuracy Train 0.98681640625, data_points = 64\n",
            "[INFO] -  Client 14, Loss Train 0.0009861126125656483, Accuracy Train 0.99609375, data_points = 64\n",
            "[INFO] - fit progress: (2, 0.006657862453721464, {'accuracy': 0.099609375, 'loss': 0.006657862453721464, 'round': 2}, 931.4847359170001)\n",
            "[INFO] - configure_evaluate: no clients selected, skipping evaluation\n",
            "[INFO] - \n",
            "[INFO] - [SUMMARY]\n",
            "[INFO] - Run finished 2 round(s) in 931.49s\n",
            "[INFO] - \tHistory (loss, centralized):\n",
            "[INFO] - \t\tround 0: 0.0045875811483711\n",
            "[INFO] - \t\tround 1: 0.0053237342508509755\n",
            "[INFO] - \t\tround 2: 0.006657862453721464\n",
            "[INFO] - \tHistory (metrics, distributed, fit):\n",
            "[INFO] - \t{'accuracy': [(1, 0.2), (2, 0.2)], 'loss': [(1, 0.1), (2, 0.1)]}\n",
            "[INFO] - \tHistory (metrics, centralized):\n",
            "[INFO] - \t{'accuracy': [(0, 0.10986328125), (1, 0.099609375), (2, 0.099609375)],\n",
            "[INFO] - \t 'loss': [(0, 0.0045875811483711),\n",
            "[INFO] - \t          (1, 0.0053237342508509755),\n",
            "[INFO] - \t          (2, 0.006657862453721464)],\n",
            "[INFO] - \t 'round': [(0, 0), (1, 1), (2, 2)]}\n",
            "[INFO] - \n",
            "[INFO] - Results of gm evaluations each round: [{'loss': 0.0045875811483711, 'accuracy': 0.10986328125}, {'loss': 0.0053237342508509755, 'accuracy': 0.099609375}, {'loss': 0.006657862453721464, 'accuracy': 0.099609375}]\n",
            "[INFO] - Training Complete for: Temp--resnet18-mnist-faulty_clients[[]]-noise_rateNone-TClients20-fedavg-(R2-clientsPerR4)-non_iid_dirichlet0.1-batch32-epochs2-lr0.001 \n",
            "[INFO] - Running Provenance\n",
            "[INFO] - Starting provenance analysis for Temp--resnet18-mnist-faulty_clients[[]]-noise_rateNone-TClients20-fedavg-(R2-clientsPerR4)-non_iid_dirichlet0.1-batch32-epochs2-lr0.001...\n",
            "[INFO] - \n",
            "Loading dataset from cache storage_of_exps/cache_of_fl_datasets: -dist_type:non_iid_dirichlet-num_clients:20-batch_size:32-dirichlet_alpha:0.1-dname:mnist-mname:resnet18-storage_dir:storage_of_exps/-max_per_client_data_size:2048-max_server_data_size:2048-architecture:cnn-\n",
            "\n",
            "[INFO] - Total test data size: 2048\n",
            "[INFO] - \n",
            "\n",
            "             ----------Round key  Temp--resnet18-mnist-faulty_clients[[]]-noise_rateNone-TClients20-fedavg-(R2-clientsPerR4)-non_iid_dirichlet0.1-batch32-epochs2-lr0.001-round:1 -------------- \n",
            "\n",
            "Downloading builder script: 100% 4.20k/4.20k [00:00<00:00, 9.62MB/s]\n",
            "{'eval_loss': 2.7257518768310547, 'eval_model_preparation_time': 0.002, 'eval_accuracy': {'accuracy': 0.099609375}, 'eval_correct_indices': tensor([   2,    7,   10,   28,   34,   71,   79,  101,  107,  110,  111,  124,\n",
            "         125,  132,  151,  179,  185,  203,  219,  247,  267,  288,  300,  301,\n",
            "         319,  324,  325,  350,  362,  365,  368,  371,  405,  426,  429,  439,\n",
            "         452,  458,  469,  474,  479,  494,  496,  507,  536,  541,  559,  567,\n",
            "         579,  612,  617,  618,  637,  639,  642,  647,  650,  661,  670,  671,\n",
            "         683,  690,  716,  733,  734,  737,  740,  753,  770,  786,  789,  799,\n",
            "         801,  829,  833,  835,  837,  854,  857,  859,  876,  887,  890,  895,\n",
            "         896,  902,  904,  918,  920,  927,  935,  942,  958,  963,  968,  989,\n",
            "         991,  998,  999, 1025, 1030, 1043, 1065, 1069, 1070, 1078, 1082, 1083,\n",
            "        1090, 1095, 1104, 1109, 1112, 1117, 1122, 1123, 1132, 1145, 1155, 1168,\n",
            "        1171, 1186, 1189, 1191, 1196, 1204, 1211, 1216, 1234, 1248, 1249, 1252,\n",
            "        1261, 1262, 1268, 1282, 1290, 1295, 1300, 1354, 1359, 1367, 1372, 1395,\n",
            "        1410, 1411, 1450, 1455, 1467, 1497, 1498, 1501, 1522, 1526, 1533, 1534,\n",
            "        1570, 1575, 1607, 1619, 1632, 1633, 1637, 1663, 1664, 1684, 1685, 1692,\n",
            "        1702, 1714, 1715, 1727, 1731, 1739, 1743, 1747, 1754, 1770, 1780, 1783,\n",
            "        1797, 1799, 1805, 1807, 1812, 1819, 1822, 1837, 1839, 1853, 1854, 1855,\n",
            "        1907, 1917, 1920, 1930, 1934, 1951, 1968, 1986, 2012, 2013, 2026, 2033]), 'eval_actual_labels': array([5, 1, 4, ..., 1, 9, 9]), 'eval_incorrect_indices': tensor([   0,    1,    3,  ..., 2045, 2046, 2047]), 'eval_predicted_labels': array([4, 4, 4, ..., 4, 4, 4]), 'eval_runtime': 11.7879, 'eval_samples_per_second': 173.737, 'eval_steps_per_second': 5.429}\n",
            "{'eval_loss': 1.4130096435546875, 'eval_model_preparation_time': 0.0018, 'eval_accuracy': {'accuracy': 1.0}, 'eval_correct_indices': tensor([0, 1]), 'eval_actual_labels': array([4, 4]), 'eval_incorrect_indices': tensor([], dtype=torch.int64), 'eval_predicted_labels': array([4, 4]), 'eval_runtime': 1.1249, 'eval_samples_per_second': 1.778, 'eval_steps_per_second': 0.889}\n",
            "[INFO] - Sanity check: 1.0\n",
            "[INFO] - client ids: ['14', '15', '10', '1']\n",
            "{'eval_loss': 1.4130096435546875, 'eval_model_preparation_time': 0.0018, 'eval_accuracy': {'accuracy': 1.0}, 'eval_correct_indices': tensor([0, 1]), 'eval_actual_labels': array([4, 4]), 'eval_incorrect_indices': tensor([], dtype=torch.int64), 'eval_predicted_labels': array([4, 4]), 'eval_runtime': 1.4145, 'eval_samples_per_second': 1.414, 'eval_steps_per_second': 0.707}\n",
            "[INFO] -             *********** Input Label: 4, Responsible Client(s): c10,c1  *************\n",
            "[INFO] -      Traced Client: c10 || Tracing = Correct\n",
            "[INFO] -     TraceFL Clients Contributions Rank:     {'c10': 0.99, 'c1': 0.01, 'c15': 0.0, 'c14': 0.0}\n",
            "[INFO] - \n",
            "\n",
            "[INFO] -             *********** Input Label: 4, Responsible Client(s): c10,c1  *************\n",
            "[INFO] -      Traced Client: c10 || Tracing = Correct\n",
            "[INFO] -     TraceFL Clients Contributions Rank:     {'c10': 0.99, 'c1': 0.01, 'c15': 0.0, 'c14': 0.0}\n",
            "[INFO] - \n",
            "\n",
            "[INFO] - [Round 1] TraceFL Localization Accuracy = 100.0 || Total Inputs Used In Prov: 2 || GM_(loss, acc) (2.7257518768310547,0.099609375)\n",
            "[INFO] - \n",
            "\n",
            "             ----------Round key  Temp--resnet18-mnist-faulty_clients[[]]-noise_rateNone-TClients20-fedavg-(R2-clientsPerR4)-non_iid_dirichlet0.1-batch32-epochs2-lr0.001-round:2 -------------- \n",
            "\n",
            "{'eval_loss': 3.408825397491455, 'eval_model_preparation_time': 0.0013, 'eval_accuracy': {'accuracy': 0.099609375}, 'eval_correct_indices': tensor([   2,    7,   10,   28,   34,   71,   79,  101,  107,  110,  111,  124,\n",
            "         125,  132,  151,  179,  185,  203,  219,  247,  267,  288,  300,  301,\n",
            "         319,  324,  325,  350,  362,  365,  368,  371,  405,  426,  429,  439,\n",
            "         452,  458,  469,  474,  479,  494,  496,  507,  536,  541,  559,  567,\n",
            "         579,  612,  617,  618,  637,  639,  642,  647,  650,  661,  670,  671,\n",
            "         683,  690,  716,  733,  734,  737,  740,  753,  770,  786,  789,  799,\n",
            "         801,  829,  833,  835,  837,  854,  857,  859,  876,  887,  890,  895,\n",
            "         896,  902,  904,  918,  920,  927,  935,  942,  958,  963,  968,  989,\n",
            "         991,  998,  999, 1025, 1030, 1043, 1065, 1069, 1070, 1078, 1082, 1083,\n",
            "        1090, 1095, 1104, 1109, 1112, 1117, 1122, 1123, 1132, 1145, 1155, 1168,\n",
            "        1171, 1186, 1189, 1191, 1196, 1204, 1211, 1216, 1234, 1248, 1249, 1252,\n",
            "        1261, 1262, 1268, 1282, 1290, 1295, 1300, 1354, 1359, 1367, 1372, 1395,\n",
            "        1410, 1411, 1450, 1455, 1467, 1497, 1498, 1501, 1522, 1526, 1533, 1534,\n",
            "        1570, 1575, 1607, 1619, 1632, 1633, 1637, 1663, 1664, 1684, 1685, 1692,\n",
            "        1702, 1714, 1715, 1727, 1731, 1739, 1743, 1747, 1754, 1770, 1780, 1783,\n",
            "        1797, 1799, 1805, 1807, 1812, 1819, 1822, 1837, 1839, 1853, 1854, 1855,\n",
            "        1907, 1917, 1920, 1930, 1934, 1951, 1968, 1986, 2012, 2013, 2026, 2033]), 'eval_actual_labels': array([5, 1, 4, ..., 1, 9, 9]), 'eval_incorrect_indices': tensor([   0,    1,    3,  ..., 2045, 2046, 2047]), 'eval_predicted_labels': array([4, 4, 4, ..., 4, 4, 4]), 'eval_runtime': 11.3344, 'eval_samples_per_second': 180.688, 'eval_steps_per_second': 5.647}\n",
            "{'eval_loss': 1.011899709701538, 'eval_model_preparation_time': 0.0011, 'eval_accuracy': {'accuracy': 1.0}, 'eval_correct_indices': tensor([0, 1]), 'eval_actual_labels': array([4, 4]), 'eval_incorrect_indices': tensor([], dtype=torch.int64), 'eval_predicted_labels': array([4, 4]), 'eval_runtime': 1.0993, 'eval_samples_per_second': 1.819, 'eval_steps_per_second': 0.91}\n",
            "[INFO] - Sanity check: 1.0\n",
            "[INFO] - client ids: ['6', '14', '2', '10']\n",
            "{'eval_loss': 1.011899709701538, 'eval_model_preparation_time': 0.0011, 'eval_accuracy': {'accuracy': 1.0}, 'eval_correct_indices': tensor([0, 1]), 'eval_actual_labels': array([4, 4]), 'eval_incorrect_indices': tensor([], dtype=torch.int64), 'eval_predicted_labels': array([4, 4]), 'eval_runtime': 1.4061, 'eval_samples_per_second': 1.422, 'eval_steps_per_second': 0.711}\n",
            "[INFO] -             *********** Input Label: 4, Responsible Client(s): c10  *************\n",
            "[INFO] -      Traced Client: c10 || Tracing = Correct\n",
            "[INFO] -     TraceFL Clients Contributions Rank:     {'c10': 1.0, 'c6': 0.0, 'c2': 0.0, 'c14': 0.0}\n",
            "[INFO] - \n",
            "\n",
            "[INFO] -             *********** Input Label: 4, Responsible Client(s): c10  *************\n",
            "[INFO] -      Traced Client: c10 || Tracing = Correct\n",
            "[INFO] -     TraceFL Clients Contributions Rank:     {'c10': 1.0, 'c6': 0.0, 'c2': 0.0, 'c14': 0.0}\n",
            "[INFO] - \n",
            "\n",
            "[INFO] - [Round 2] TraceFL Localization Accuracy = 100.0 || Total Inputs Used In Prov: 2 || GM_(loss, acc) (3.408825397491455,0.099609375)\n",
            "/content/TraceFL/my_virtual_env/lib/python3.11/site-packages/jupyter_client/connect.py:22: DeprecationWarning: Jupyter is migrating its paths to use standard platformdirs\n",
            "given by the platformdirs library.  To remove this warning and\n",
            "see the appropriate new directories, set the environment variable\n",
            "`JUPYTER_PLATFORM_DIRS=1` and then run `jupyter --paths`.\n",
            "The use of platformdirs will be the default in `jupyter_core` v6\n",
            "  from jupyter_core.paths import jupyter_data_dir, jupyter_runtime_dir, secure_write\n",
            "/usr/lib/python3.11/importlib/__init__.py:126: DeprecationWarning: `ipykernel.pylab.backend_inline` is deprecated, directly use `matplotlib_inline.backend_inline`\n",
            "  return _bootstrap._gcd_import(name[level:], package, level)\n",
            "[INFO] - ----------------------------\n",
            "[INFO] - Total Rounds: 2\n",
            "[INFO] - TraceFL Average Localization Accuracy: 100.0\n",
            "\u001b[0m"
          ]
        }
      ],
      "source": [
        "\n",
        "!my_virtual_env/bin/python -m tracefl.main dirichlet_alpha=0.1 device=cuda"
      ]
    },
    {
      "cell_type": "markdown",
      "metadata": {},
      "source": [
        "## Reproducing Experimental Results\n",
        "\n",
        "Uncomment the following code block to reproduce the experimental results. You can change the parmeters to run the experiments with different configurations.\n",
        "\n"
      ]
    },
    {
      "cell_type": "markdown",
      "metadata": {},
      "source": [
        "1. **TraceFL’s Localization Accuracy in Correct Predictions (Figure-2), TraceFL’s Scalability (Table-3 and Figure-5)**"
      ]
    },
    {
      "cell_type": "code",
      "execution_count": null,
      "metadata": {},
      "outputs": [],
      "source": [
        "%%bash\n",
        "\n",
        "# echo \"      ****************** TraceFL’s Localization Accuracy in Correct Predictions (Figure-2), TraceFL’s Scalability (Table-3 and Figure-5) ******************\"\n",
        "\n",
        "\n",
        "# device=cuda # cpu, cuda, mps  # mps is only for M chip macs \n",
        "# client_gpu=1 \n",
        "# key_start='artifact_exp'\n",
        "# num_clients=10 # change this \n",
        "# clients_per_round=4 # change this\n",
        "# num_rounds=2 # increase this\n",
        "# dirichlet_alpha=0.3\n",
        "# model=\"resnet18\" # change model, \n",
        "# dataset=\"mnist\" # change dataset\n",
        "\n",
        "# my_virtual_env/bin/python -m tracefl.main --multirun device=$device client_resources.gpus=$client_gpu  exp_key=$key_start model.name=$model dataset.name=$dataset num_clients=$num_clients num_rounds=$num_rounds clients_per_round=$clients_per_round dirichlet_alpha=$dirichlet_alpha "
      ]
    },
    {
      "cell_type": "markdown",
      "metadata": {},
      "source": [
        "2. **Varying Data Distribution Figure-3**"
      ]
    },
    {
      "cell_type": "code",
      "execution_count": null,
      "metadata": {},
      "outputs": [],
      "source": [
        "%%bash\n",
        "\n",
        "# echo \"      ****************** Varying Data Distribution Figure-3 ******************\"\n",
        "\n",
        "\n",
        "# device=cuda # cpu, cuda, mps  # mps is only for M chip macs \n",
        "# client_gpu=1 \n",
        "# key_start='artifact_exp'\n",
        "# num_clients=10 # change this \n",
        "# clients_per_round=4 # change this\n",
        "# num_rounds=2 # increase this\n",
        "# # dirichlet_alpha=\"0.1,0.2,0.3,0.4,0.5,0.6,0.7,0.8,0.9,1\"\n",
        "# dirichlet_alpha=0.3 # change this\n",
        "# model=\"resnet18\" # change model, \n",
        "# dataset=\"mnist\" # change dataset\n",
        "\n",
        "# my_virtual_env/bin/python -m tracefl.main --multirun device=$device client_resources.gpus=$client_gpu  exp_key=$key_start model.name=$model dataset.name=$dataset num_clients=$num_clients num_rounds=$num_rounds clients_per_round=$clients_per_round dirichlet_alpha=$dirichlet_alpha "
      ]
    },
    {
      "cell_type": "markdown",
      "metadata": {},
      "source": [
        "3. **TraceFL’s Localization Accuracy in Mispredictions (Table-1) and (Figure-6)**"
      ]
    },
    {
      "cell_type": "code",
      "execution_count": null,
      "metadata": {},
      "outputs": [],
      "source": [
        "%%bash\n",
        "\n",
        "# echo \"      ****************** TraceFL’s Localization Accuracy in Mispredictions (Table-1) and (Figure-6) ******************\"\n",
        "\n",
        "\n",
        "# device=cuda # cpu, cuda, mps  # mps is only for M chip macs \n",
        "# client_gpu=1 \n",
        "# key_start='artifact_exp'\n",
        "# num_clients=10 # change this \n",
        "# clients_per_round=10 # change this\n",
        "# num_rounds=3 # increase this\n",
        "# model=\"resnet18\" # change model, \n",
        "# dataset=\"mnist\" # change dataset\n",
        "# dist_type=\"non_iid_dirichlet\"\n",
        "# dirichlet_alpha=0.7\n",
        "# faulty_clients_ids=[\"0\"]\n",
        "# label2flip={1:0,2:0,3:0,4:0,5:0,6:0,7:0,8:0,9:0,10:0,11:0,12:0,13:0}\n",
        "\n",
        "\n",
        "\n",
        "# my_virtual_env/bin/python -m tracefl.main --multirun device=$device client_resources.gpus=$client_gpu  exp_key=$key_start model.name=$model dataset.name=$dataset num_clients=$num_clients num_rounds=$num_rounds clients_per_round=$clients_per_round dirichlet_alpha=$dirichlet_alpha faulty_clients_ids=$faulty_clients_ids label2flip=$label2flip\n"
      ]
    },
    {
      "cell_type": "markdown",
      "metadata": {},
      "source": [
        "4. **Differential Privacy (DP) Enabled FL (Figure-4 and Table-2)**"
      ]
    },
    {
      "cell_type": "code",
      "execution_count": null,
      "metadata": {},
      "outputs": [],
      "source": [
        "%%bash\n",
        "\n",
        "\n",
        "# echo \"      ****************** Differential Privacy (DP) Enabled FL (Figure-4 and Table-2) ******************\"\n",
        "\n",
        "\n",
        "# device=cuda # cpu, cuda, mps  # mps is only for M chip macs \n",
        "# client_gpu=1 \n",
        "# key_start='artifact_exp'\n",
        "# num_clients=10 # change this \n",
        "# clients_per_round=4 # change this\n",
        "# num_rounds=2 # increase this\n",
        "# dirichlet_alpha=0.3\n",
        "# model=\"resnet18\" # change model, \n",
        "# dataset=\"mnist\" # change dataset\n",
        "# dp_noise=0.001 # change differential privacy noise\n",
        "# dp_clip=15 # change differential privacy clip\n",
        "\n",
        "# my_virtual_env/bin/python -m tracefl.main --multirun device=$device client_resources.gpus=$client_gpu  exp_key=$key_start model.name=$model dataset.name=$dataset num_clients=$num_clients num_rounds=$num_rounds clients_per_round=$clients_per_round dirichlet_alpha=$dirichlet_alpha noise_multiplier=$dp_noise clipping_norm=$dp_clip\n",
        "\n"
      ]
    },
    {
      "cell_type": "markdown",
      "metadata": {},
      "source": [
        "## TraceFL is Generic and Can work with any Neural Network Classification Model and dataset in image and classificaiton \n",
        "\n",
        "TraceFL is designed to work with any neural network classification model and dataset. The code is designed to work with any classification dataset available in `FlowerDatasets` or configured with `FlowerDatasets` provided guidliens. Here we show can it work tinybert mode with dbpedia dataset. This is not presented in the paper but can be easily done with command line. This shows the generality of the TraceFL framework. It is designed to work with any classification dataset and model even huggingface models used for image and text classificaiton without changes in the code.  \n",
        "\n"
      ]
    },
    {
      "cell_type": "code",
      "execution_count": null,
      "metadata": {},
      "outputs": [],
      "source": [
        "%%bash\n",
        "\n",
        "# my_virtual_env/bin/python -m tracefl.main --model tinybert --dataset dbpedia_14 device=cuda"
      ]
    }
  ],
  "metadata": {
    "colab": {
      "provenance": []
    },
    "kernelspec": {
      "display_name": "Python 3",
      "language": "python",
      "name": "python3"
    },
    "language_info": {
      "name": "python",
      "version": "3.10.12"
    }
  },
  "nbformat": 4,
  "nbformat_minor": 0
}
