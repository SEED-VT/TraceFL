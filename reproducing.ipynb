{
  "cells": [
    {
      "cell_type": "markdown",
      "metadata": {
        "id": "HyYPJ5rqmgjV"
      },
      "source": [
        "## TraceFL - Reproducing Experimental Results\n",
        "\n",
        "\n",
        "**⚠️ Make sure to enable the GPU to get the best performance. The GPU can be enabled by going to the top (Runtime) and selecting the Accelerator as T4 GPU.**\n",
        "\n",
        "\n",
        "\n"
      ]
    },
    {
      "cell_type": "code",
      "execution_count": 1,
      "metadata": {
        "colab": {
          "base_uri": "https://localhost:8080/"
        },
        "id": "7wtSE3OlmgjV",
        "outputId": "140d0023-9166-407d-fddf-05f30f4d2158"
      },
      "outputs": [
        {
          "name": "stdout",
          "output_type": "stream",
          "text": [
            "Cloning into 'TraceFL'...\n",
            "remote: Enumerating objects: 426, done.\u001b[K\n",
            "remote: Counting objects: 100% (426/426), done.\u001b[K\n",
            "remote: Compressing objects: 100% (158/158), done.\u001b[K\n",
            "remote: Total 426 (delta 301), reused 379 (delta 257), pack-reused 0 (from 0)\u001b[K\n",
            "Receiving objects: 100% (426/426), 5.47 MiB | 7.54 MiB/s, done.\n",
            "Resolving deltas: 100% (301/301), done.\n",
            "/content/TraceFL\n",
            "artifact.ipynb\tpoetry.lock\tscripts\t\t\t\t   TraceFL-Paper.pdf\n",
            "graphs\t\tpyproject.toml\ttracefl\t\t\t\t   tracefl.png\n",
            "LICENSE\t\tREADME.md\tTraceFL_clients_contributions.log\n"
          ]
        }
      ],
      "source": [
        "!git clone https://github.com/SEED-VT/TraceFL\n",
        "%cd TraceFL\n",
        "!ls"
      ]
    },
    {
      "cell_type": "code",
      "execution_count": null,
      "metadata": {},
      "outputs": [
        {
          "name": "stdout",
          "output_type": "stream",
          "text": [
            "Cloning into 'TraceFL'...\n",
            "remote: Enumerating objects: 426, done.\u001b[K\n",
            "remote: Counting objects: 100% (426/426), done.\u001b[K\n",
            "remote: Compressing objects: 100% (158/158), done.\u001b[K\n",
            "remote: Total 426 (delta 301), reused 379 (delta 257), pack-reused 0 (from 0)\u001b[K\n",
            "Receiving objects: 100% (426/426), 5.47 MiB | 7.54 MiB/s, done.\n",
            "Resolving deltas: 100% (301/301), done.\n",
            "/content/TraceFL\n",
            "artifact.ipynb\tpoetry.lock\tscripts\t\t\t\t   TraceFL-Paper.pdf\n",
            "graphs\t\tpyproject.toml\ttracefl\t\t\t\t   tracefl.png\n",
            "LICENSE\t\tREADME.md\tTraceFL_clients_contributions.log\n"
          ]
        }
      ],
      "source": [
        "!git clone https://github.com/SEED-VT/TraceFL\n",
        "%cd TraceFL\n",
        "!ls"
      ]
    },
    {
      "cell_type": "code",
      "execution_count": 2,
      "metadata": {
        "colab": {
          "base_uri": "https://localhost:8080/"
        },
        "id": "8IHNy9G1mgjV",
        "outputId": "5c4d424e-a562-441c-f8d0-9ffb47d0a1af"
      },
      "outputs": [
        {
          "name": "stdout",
          "output_type": "stream",
          "text": [
            "   ━━━━━━━━━━━━━━━━━━━━━━━━━━━━━━━━━━━━━━━━ 4.3/4.3 MB 31.1 MB/s eta 0:00:00\n",
            "   ━━━━━━━━━━━━━━━━━━━━━━━━━━━━━━━━━━━━━━━━ 469.0/469.0 kB 26.3 MB/s eta 0:00:00\n",
            "   ━━━━━━━━━━━━━━━━━━━━━━━━━━━━━━━━━━━━━━━━ 544.8/544.8 kB 10.9 MB/s eta 0:00:00\n",
            "   ━━━━━━━━━━━━━━━━━━━━━━━━━━━━━━━━━━━━━━━━ 979.7/979.7 kB 25.9 MB/s eta 0:00:00\n",
            "   ━━━━━━━━━━━━━━━━━━━━━━━━━━━━━━━━━━━━━━━━ 3.1/3.1 MB 69.9 MB/s eta 0:00:00\n",
            "   ━━━━━━━━━━━━━━━━━━━━━━━━━━━━━━━━━━━━━━━━ 4.2/4.2 MB 92.3 MB/s eta 0:00:00\n"
          ]
        }
      ],
      "source": [
        "%%bash\n",
        "pip install virtualenv -q\n",
        "virtualenv my_virtual_env -q\n",
        "source my_virtual_env/bin/activate\n",
        "my_virtual_env/bin/pip install poetry -q\n",
        "source my_virtual_env/bin/activate\n",
        "my_virtual_env/bin/poetry install -q # install tracefl\n"
      ]
    },
    {
      "cell_type": "markdown",
      "metadata": {},
      "source": [
        "\n",
        "**Uncomment the following code block to reproduce the experimental results. You can modify the parameters to run the experiments with different configurations.**\n",
        "\n",
        "<div style=\"color: red; font-weight: bold;\">\n",
        "    Do not change `%%bash` line. The code block below is a bash script that runs the experiments. It will output the results only after the experiments are completed. \n",
        "</div>\n"
      ]
    },
    {
      "cell_type": "markdown",
      "metadata": {},
      "source": [
        "1. **TraceFL’s Localization Accuracy in Correct Predictions (Figure-2), TraceFL’s Scalability (Table-3 and Figure-5)**"
      ]
    },
    {
      "cell_type": "code",
      "execution_count": null,
      "metadata": {},
      "outputs": [],
      "source": [
        "%%bash\n",
        "\n",
        "# echo \"      ****************** TraceFL’s Localization Accuracy in Correct Predictions (Figure-2), TraceFL’s Scalability (Table-3 and Figure-5) ******************\"\n",
        "\n",
        "\n",
        "# device=cuda # cpu, cuda, mps  # mps is only for M chip macs \n",
        "# client_gpu=1 \n",
        "# key_start='artifact_exp'\n",
        "# num_clients=10 # change this \n",
        "# clients_per_round=4 # change this\n",
        "# num_rounds=2 # increase this\n",
        "# dirichlet_alpha=0.3\n",
        "# model=\"resnet18\" # change model, \n",
        "# dataset=\"mnist\" # change dataset\n",
        "\n",
        "# my_virtual_env/bin/python -m tracefl.main --multirun device=$device client_resources.gpus=$client_gpu  exp_key=$key_start model.name=$model dataset.name=$dataset num_clients=$num_clients num_rounds=$num_rounds clients_per_round=$clients_per_round dirichlet_alpha=$dirichlet_alpha "
      ]
    },
    {
      "cell_type": "markdown",
      "metadata": {},
      "source": [
        "2. **Varying Data Distribution Figure-3**"
      ]
    },
    {
      "cell_type": "code",
      "execution_count": null,
      "metadata": {},
      "outputs": [],
      "source": [
        "%%bash\n",
        "\n",
        "# echo \"      ****************** Varying Data Distribution Figure-3 ******************\"\n",
        "\n",
        "\n",
        "# device=cuda # cpu, cuda, mps  # mps is only for M chip macs \n",
        "# client_gpu=1 \n",
        "# key_start='artifact_exp'\n",
        "# num_clients=10 # change this \n",
        "# clients_per_round=4 # change this\n",
        "# num_rounds=2 # increase this\n",
        "# # dirichlet_alpha=\"0.1,0.2,0.3,0.4,0.5,0.6,0.7,0.8,0.9,1\"\n",
        "# dirichlet_alpha=0.3 # change this\n",
        "# model=\"resnet18\" # change model, \n",
        "# dataset=\"mnist\" # change dataset\n",
        "\n",
        "# my_virtual_env/bin/python -m tracefl.main --multirun device=$device client_resources.gpus=$client_gpu  exp_key=$key_start model.name=$model dataset.name=$dataset num_clients=$num_clients num_rounds=$num_rounds clients_per_round=$clients_per_round dirichlet_alpha=$dirichlet_alpha "
      ]
    },
    {
      "cell_type": "markdown",
      "metadata": {},
      "source": [
        "3. **TraceFL’s Localization Accuracy in Mispredictions (Table-1) and (Figure-6)**"
      ]
    },
    {
      "cell_type": "code",
      "execution_count": null,
      "metadata": {},
      "outputs": [],
      "source": [
        "%%bash\n",
        "\n",
        "# echo \"      ****************** TraceFL’s Localization Accuracy in Mispredictions (Table-1) and (Figure-6) ******************\"\n",
        "\n",
        "\n",
        "# device=cuda # cpu, cuda, mps  # mps is only for M chip macs \n",
        "# client_gpu=1 \n",
        "# key_start='artifact_exp'\n",
        "# num_clients=10 # change this \n",
        "# clients_per_round=10 # change this\n",
        "# num_rounds=3 # increase this\n",
        "# model=\"resnet18\" # change model, \n",
        "# dataset=\"mnist\" # change dataset\n",
        "# dist_type=\"non_iid_dirichlet\"\n",
        "# dirichlet_alpha=0.7\n",
        "# faulty_clients_ids=[\"0\"]\n",
        "# label2flip={1:0,2:0,3:0,4:0,5:0,6:0,7:0,8:0,9:0,10:0,11:0,12:0,13:0}\n",
        "\n",
        "\n",
        "\n",
        "# my_virtual_env/bin/python -m tracefl.main --multirun device=$device client_resources.gpus=$client_gpu  exp_key=$key_start model.name=$model dataset.name=$dataset num_clients=$num_clients num_rounds=$num_rounds clients_per_round=$clients_per_round dirichlet_alpha=$dirichlet_alpha faulty_clients_ids=$faulty_clients_ids label2flip=$label2flip\n"
      ]
    },
    {
      "cell_type": "markdown",
      "metadata": {},
      "source": [
        "4. **Differential Privacy (DP) Enabled FL (Figure-4 and Table-2)**"
      ]
    },
    {
      "cell_type": "code",
      "execution_count": null,
      "metadata": {},
      "outputs": [],
      "source": [
        "%%bash\n",
        "\n",
        "\n",
        "# echo \"      ****************** Differential Privacy (DP) Enabled FL (Figure-4 and Table-2) ******************\"\n",
        "\n",
        "\n",
        "# device=cuda # cpu, cuda, mps  # mps is only for M chip macs \n",
        "# client_gpu=1 \n",
        "# key_start='artifact_exp'\n",
        "# num_clients=10 # change this \n",
        "# clients_per_round=4 # change this\n",
        "# num_rounds=2 # increase this\n",
        "# dirichlet_alpha=0.3\n",
        "# model=\"resnet18\" # change model, \n",
        "# dataset=\"mnist\" # change dataset\n",
        "# dp_noise=0.001 # change differential privacy noise\n",
        "# dp_clip=15 # change differential privacy clip\n",
        "\n",
        "# my_virtual_env/bin/python -m tracefl.main --multirun device=$device client_resources.gpus=$client_gpu  exp_key=$key_start model.name=$model dataset.name=$dataset num_clients=$num_clients num_rounds=$num_rounds clients_per_round=$clients_per_round dirichlet_alpha=$dirichlet_alpha noise_multiplier=$dp_noise clipping_norm=$dp_clip\n",
        "\n"
      ]
    },
    {
      "cell_type": "markdown",
      "metadata": {},
      "source": [
        "## TraceFL: A Generic Framework for Any Neural Network Classification Model and Dataset\n",
        "\n",
        "\n",
        "TraceFL is designed to work with any neural network classification model and dataset. The code is compatible with any classification dataset available in `FlowerDatasets` or configured following the `FlowerDatasets` guidelines. \n",
        "\n",
        "Here, we demonstrate its capability to work with the `distilbert` model and the `DBpedia` dataset. While this specific example is not presented in the paper, it can be easily executed using the command line. This highlights the generality of the TraceFL framework.\n",
        "\n",
        "TraceFL is versatile and supports any classification dataset and model, including Hugging Face models for image and text classification, with minimal configuration changes to the code.\n"
      ]
    },
    {
      "cell_type": "code",
      "execution_count": null,
      "metadata": {},
      "outputs": [],
      "source": [
        "%%bash\n",
        "\n",
        "# my_virtual_env/bin/python -m tracefl.main dataset.name=dbpedia_14  model.name=distilbert/distilbert-base-uncased device=cuda"
      ]
    }
  ],
  "metadata": {
    "colab": {
      "provenance": []
    },
    "kernelspec": {
      "display_name": "Python 3",
      "language": "python",
      "name": "python3"
    },
    "language_info": {
      "name": "python",
      "version": "3.10.12"
    }
  },
  "nbformat": 4,
  "nbformat_minor": 0
}
